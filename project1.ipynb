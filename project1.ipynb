{
  "nbformat": 4,
  "nbformat_minor": 0,
  "metadata": {
    "colab": {
      "name": "project1.ipynb",
      "provenance": [],
      "collapsed_sections": []
    },
    "kernelspec": {
      "name": "python3",
      "display_name": "Python 3"
    },
    "language_info": {
      "name": "python"
    }
  },
  "cells": [
    {
      "cell_type": "code",
      "metadata": {
        "id": "J49xln6rcYwZ"
      },
      "source": [
        "import torch\n",
        "from torch import nn\n",
        "from torch.nn import functional as F\n",
        "import torch.optim as optim\n",
        "import math"
      ],
      "execution_count": 40,
      "outputs": []
    },
    {
      "cell_type": "code",
      "metadata": {
        "id": "zo-4vWDOBjTf"
      },
      "source": [
        "class Net(nn.Module):\n",
        "    def __init__(self):\n",
        "        super().__init__()\n",
        "        nb_hidden = 200\n",
        "        self.conv1 = nn.Conv2d(1, 32, kernel_size=3)\n",
        "        self.conv2 = nn.Conv2d(32, 64, kernel_size=3)\n",
        "        self.fc1 = nn.Linear(5*5 * 64, nb_hidden)\n",
        "        self.fc2 = nn.Linear(nb_hidden, 10)\n",
        "\n",
        "    def forward(self, x):\n",
        "        x = F.relu(self.conv1(x))\n",
        "        x = F.relu(F.max_pool2d(self.conv2(x), kernel_size=2))\n",
        "        x = F.relu(self.fc1(x.view(-1, 5*5 * 64)))\n",
        "        x = self.fc2(x)\n",
        "        # print(\"x = \",x.size(), x)\n",
        "        return x"
      ],
      "execution_count": 128,
      "outputs": []
    },
    {
      "cell_type": "markdown",
      "metadata": {
        "id": "YURT7z7UuI72"
      },
      "source": [
        ""
      ]
    },
    {
      "cell_type": "code",
      "metadata": {
        "id": "XAq_AsPCDd-I"
      },
      "source": [
        "#2 \n",
        "def train_model(model, train_input, train_target, mini_batch_size):\n",
        "    # We do this with mini-batches\n",
        "    criterion = nn.CrossEntropyLoss()\n",
        "    optimizer = optim.SGD(model.parameters(), lr=η, momentum=0.3)\n",
        "    # print(\"Size = \", train_input.size(), train_target.size())\n",
        "    for b in range(0, train_input.size(0), mini_batch_size):\n",
        "        #--------------\n",
        "          # torch.narrow(input, dim, start, length) → Tensor\n",
        "        #--------------\n",
        "        # print(\"train_input.narrow\",train_input.narrow(0, b, mini_batch_size).size())\n",
        "        output = model(train_input.narrow(0, b, mini_batch_size))#表示取出train_input中第0维上索引从b开始到index+mini_batch_size-1的所有元素\n",
        "        loss = criterion(output, train_target.narrow(0, b, mini_batch_size))\n",
        "        model.zero_grad()\n",
        "        loss.backward()\n",
        "        optimizer.step()\n",
        "\n",
        "    return model, loss "
      ],
      "execution_count": 129,
      "outputs": []
    },
    {
      "cell_type": "code",
      "metadata": {
        "colab": {
          "base_uri": "https://localhost:8080/"
        },
        "id": "tfJUg85l_07D",
        "outputId": "7d034a15-038f-4335-e91d-ec885bc98660"
      },
      "source": [
        "import dlc_practical_prologue as prologue\n",
        "N = 1000\n",
        "data = prologue.generate_pair_sets(N)\n",
        "train_data = data[:3]\n",
        "test_data = data[3:]\n",
        "\n",
        "train_input, train_target, train_classes = train_data[0], train_data[1], train_data[2]\n",
        "test_input, test_target, test_classes = test_data[0], test_data[1], test_data[2]\n",
        "print(train_data[0].size(), train_data[1].size(), train_data[2].size())\n",
        "\n",
        "train_input_1 =  train_input[:,0].unsqueeze(1)\n",
        "train_input_2 =  train_input[:,1].unsqueeze(1)\n",
        "train_classes_1 =  train_classes[:,0]\n",
        "train_classes_2 =  train_classes[:,1]\n",
        "print(train_input_1.size(), train_classes_1.size())\n",
        "\n",
        "test_input_1 =  test_input[:,0].unsqueeze(1)\n",
        "test_input_2 =  test_input[:,1].unsqueeze(1)\n",
        "test_classes_1 =  test_classes[:,0]\n",
        "test_classes_2 =  test_classes[:,1]\n",
        "print(test_input_1.size(), test_classes_1.size(),test_classes_1[1])"
      ],
      "execution_count": 122,
      "outputs": [
        {
          "output_type": "stream",
          "name": "stdout",
          "text": [
            "torch.Size([1000, 2, 14, 14]) torch.Size([1000]) torch.Size([1000, 2])\n",
            "torch.Size([1000, 1, 14, 14]) torch.Size([1000])\n",
            "torch.Size([1000, 1, 14, 14]) torch.Size([1000]) tensor(6)\n"
          ]
        }
      ]
    },
    {
      "cell_type": "code",
      "metadata": {
        "id": "HPRho2Y2azXU"
      },
      "source": [
        "def compute_nb_errors(model, data_input, data_target, mini_batch_size):\n",
        "  error = 0\n",
        "  for b in range(0, data_input.size(0), mini_batch_size): \n",
        "    output = model(data_input.narrow(0, b, mini_batch_size))\n",
        "    for i in range(mini_batch_size): \n",
        "      # print(\"output = \", output[i], output[i].size(), torch.argmax(output[i]),data_target[b+i])\n",
        "      if torch.argmax(output[i]) != data_target[b+i]:\n",
        "        error += 1\n",
        "  acc = 1 - (error/data_input.size(0))\n",
        "  return acc"
      ],
      "execution_count": 131,
      "outputs": []
    },
    {
      "cell_type": "code",
      "metadata": {
        "colab": {
          "base_uri": "https://localhost:8080/"
        },
        "id": "KEAN-VHvPoPB",
        "outputId": "f7ca4797-dab8-40f2-96b7-b0173b581931"
      },
      "source": [
        "model = Net()\n",
        "η = 0.002 #If it too big, it will fail!\n",
        "mini_batch_size = 5\n",
        "nb_epochs =30\n",
        "#print(train_input, train_target)\n",
        "for e in range(nb_epochs):\n",
        "    #print(train_input_1, train_classes_1)\n",
        "    model, acc_loss = train_model(model, train_input_1, train_classes_1, mini_batch_size)\n",
        "\n",
        "    acc = compute_nb_errors(model, test_input_1, test_classes_1, mini_batch_size)\n",
        "    print('epoch :', e, ' loss :', round(acc_loss.item()))\n",
        "    print('acc : ', acc)\n",
        "    print('----------')"
      ],
      "execution_count": 136,
      "outputs": [
        {
          "output_type": "stream",
          "name": "stdout",
          "text": [
            "epoch : 0  loss : 0\n",
            "acc :  0.882\n",
            "----------\n",
            "epoch : 1  loss : 0\n",
            "acc :  0.907\n",
            "----------\n",
            "epoch : 2  loss : 0\n",
            "acc :  0.9359999999999999\n",
            "----------\n",
            "epoch : 3  loss : 0\n",
            "acc :  0.943\n",
            "----------\n",
            "epoch : 4  loss : 0\n",
            "acc :  0.951\n",
            "----------\n",
            "epoch : 5  loss : 0\n",
            "acc :  0.95\n",
            "----------\n",
            "epoch : 6  loss : 0\n",
            "acc :  0.955\n",
            "----------\n",
            "epoch : 7  loss : 0\n",
            "acc :  0.955\n",
            "----------\n",
            "epoch : 8  loss : 0\n",
            "acc :  0.956\n",
            "----------\n",
            "epoch : 9  loss : 0\n",
            "acc :  0.955\n",
            "----------\n",
            "epoch : 10  loss : 0\n",
            "acc :  0.956\n",
            "----------\n",
            "epoch : 11  loss : 0\n",
            "acc :  0.957\n",
            "----------\n",
            "epoch : 12  loss : 0\n",
            "acc :  0.957\n",
            "----------\n",
            "epoch : 13  loss : 0\n",
            "acc :  0.957\n",
            "----------\n",
            "epoch : 14  loss : 0\n",
            "acc :  0.957\n",
            "----------\n",
            "epoch : 15  loss : 0\n",
            "acc :  0.957\n",
            "----------\n",
            "epoch : 16  loss : 0\n",
            "acc :  0.957\n",
            "----------\n",
            "epoch : 17  loss : 0\n",
            "acc :  0.957\n",
            "----------\n",
            "epoch : 18  loss : 0\n",
            "acc :  0.957\n",
            "----------\n",
            "epoch : 19  loss : 0\n",
            "acc :  0.957\n",
            "----------\n",
            "epoch : 20  loss : 0\n",
            "acc :  0.957\n",
            "----------\n",
            "epoch : 21  loss : 0\n",
            "acc :  0.957\n",
            "----------\n",
            "epoch : 22  loss : 0\n",
            "acc :  0.957\n",
            "----------\n",
            "epoch : 23  loss : 0\n",
            "acc :  0.957\n",
            "----------\n",
            "epoch : 24  loss : 0\n",
            "acc :  0.956\n",
            "----------\n",
            "epoch : 25  loss : 0\n",
            "acc :  0.956\n",
            "----------\n",
            "epoch : 26  loss : 0\n",
            "acc :  0.956\n",
            "----------\n",
            "epoch : 27  loss : 0\n",
            "acc :  0.957\n",
            "----------\n",
            "epoch : 28  loss : 0\n",
            "acc :  0.957\n",
            "----------\n",
            "epoch : 29  loss : 0\n",
            "acc :  0.957\n",
            "----------\n"
          ]
        }
      ]
    },
    {
      "cell_type": "code",
      "metadata": {
        "id": "AXwY0s202B2m"
      },
      "source": [
        ""
      ],
      "execution_count": null,
      "outputs": []
    },
    {
      "cell_type": "code",
      "metadata": {
        "colab": {
          "base_uri": "https://localhost:8080/",
          "height": 413
        },
        "id": "6luuSoawx8Q9",
        "outputId": "341dcbf0-2ae7-49fc-abb8-4a34d56700af"
      },
      "source": [
        "model1 = Net()\n",
        "model2 = Net()\n",
        "η = 0.2\n",
        "mini_batch_size = 2\n",
        "nb_epochs = 25\n",
        "#print(train_input, train_target)\n",
        "for e in range(nb_epochs):\n",
        "    print(\"Data = \", train_data[0].size(), train_data[2].size())\n",
        "    model, acc_loss = train_model(model1, train_data[0][0], train_data[2][0], mini_batch_size)\n",
        "\n",
        "    acc = compute_nb_errors(model, test_input, test_target)\n",
        "    print('epoch :', e, ' loss :', round(acc_loss, 3))\n",
        "    print('acc : ', acc)\n",
        "    print('----------')\n",
        "\n",
        "for e in range(nb_epochs):\n",
        "    model, acc_loss = train_model(model2, train_data[0][1], train_data[2][1], mini_batch_size)\n",
        "\n",
        "    acc = compute_nb_errors(model, test_input, test_target)\n",
        "    print('epoch :', e, ' loss :', round(acc_loss, 3))\n",
        "    print('acc : ', acc)\n",
        "    print('----------')"
      ],
      "execution_count": 98,
      "outputs": [
        {
          "output_type": "stream",
          "name": "stdout",
          "text": [
            "Data =  torch.Size([100, 2, 14, 14]) torch.Size([100, 2])\n"
          ]
        },
        {
          "output_type": "error",
          "ename": "RuntimeError",
          "evalue": "ignored",
          "traceback": [
            "\u001b[0;31m---------------------------------------------------------------------------\u001b[0m",
            "\u001b[0;31mRuntimeError\u001b[0m                              Traceback (most recent call last)",
            "\u001b[0;32m<ipython-input-98-e7d254e7cc75>\u001b[0m in \u001b[0;36m<module>\u001b[0;34m()\u001b[0m\n\u001b[1;32m      7\u001b[0m \u001b[0;32mfor\u001b[0m \u001b[0me\u001b[0m \u001b[0;32min\u001b[0m \u001b[0mrange\u001b[0m\u001b[0;34m(\u001b[0m\u001b[0mnb_epochs\u001b[0m\u001b[0;34m)\u001b[0m\u001b[0;34m:\u001b[0m\u001b[0;34m\u001b[0m\u001b[0;34m\u001b[0m\u001b[0m\n\u001b[1;32m      8\u001b[0m     \u001b[0mprint\u001b[0m\u001b[0;34m(\u001b[0m\u001b[0;34m\"Data = \"\u001b[0m\u001b[0;34m,\u001b[0m \u001b[0mtrain_data\u001b[0m\u001b[0;34m[\u001b[0m\u001b[0;36m0\u001b[0m\u001b[0;34m]\u001b[0m\u001b[0;34m.\u001b[0m\u001b[0msize\u001b[0m\u001b[0;34m(\u001b[0m\u001b[0;34m)\u001b[0m\u001b[0;34m,\u001b[0m \u001b[0mtrain_data\u001b[0m\u001b[0;34m[\u001b[0m\u001b[0;36m2\u001b[0m\u001b[0;34m]\u001b[0m\u001b[0;34m.\u001b[0m\u001b[0msize\u001b[0m\u001b[0;34m(\u001b[0m\u001b[0;34m)\u001b[0m\u001b[0;34m)\u001b[0m\u001b[0;34m\u001b[0m\u001b[0;34m\u001b[0m\u001b[0m\n\u001b[0;32m----> 9\u001b[0;31m     \u001b[0mmodel\u001b[0m\u001b[0;34m,\u001b[0m \u001b[0macc_loss\u001b[0m \u001b[0;34m=\u001b[0m \u001b[0mtrain_model\u001b[0m\u001b[0;34m(\u001b[0m\u001b[0mmodel1\u001b[0m\u001b[0;34m,\u001b[0m \u001b[0mtrain_data\u001b[0m\u001b[0;34m[\u001b[0m\u001b[0;36m0\u001b[0m\u001b[0;34m]\u001b[0m\u001b[0;34m[\u001b[0m\u001b[0;36m0\u001b[0m\u001b[0;34m]\u001b[0m\u001b[0;34m,\u001b[0m \u001b[0mtrain_data\u001b[0m\u001b[0;34m[\u001b[0m\u001b[0;36m2\u001b[0m\u001b[0;34m]\u001b[0m\u001b[0;34m[\u001b[0m\u001b[0;36m0\u001b[0m\u001b[0;34m]\u001b[0m\u001b[0;34m,\u001b[0m \u001b[0mmini_batch_size\u001b[0m\u001b[0;34m)\u001b[0m\u001b[0;34m\u001b[0m\u001b[0;34m\u001b[0m\u001b[0m\n\u001b[0m\u001b[1;32m     10\u001b[0m \u001b[0;34m\u001b[0m\u001b[0m\n\u001b[1;32m     11\u001b[0m     \u001b[0macc\u001b[0m \u001b[0;34m=\u001b[0m \u001b[0mcompute_nb_errors\u001b[0m\u001b[0;34m(\u001b[0m\u001b[0mmodel\u001b[0m\u001b[0;34m,\u001b[0m \u001b[0mtest_input\u001b[0m\u001b[0;34m,\u001b[0m \u001b[0mtest_target\u001b[0m\u001b[0;34m)\u001b[0m\u001b[0;34m\u001b[0m\u001b[0;34m\u001b[0m\u001b[0m\n",
            "\u001b[0;32m<ipython-input-52-77d51d4fc231>\u001b[0m in \u001b[0;36mtrain_model\u001b[0;34m(model, train_input, train_target, mini_batch_size)\u001b[0m\n\u001b[1;32m      9\u001b[0m           \u001b[0;31m# torch.narrow(input, dim, start, length) → Tensor\u001b[0m\u001b[0;34m\u001b[0m\u001b[0;34m\u001b[0m\u001b[0;34m\u001b[0m\u001b[0m\n\u001b[1;32m     10\u001b[0m         \u001b[0;31m#--------------\u001b[0m\u001b[0;34m\u001b[0m\u001b[0;34m\u001b[0m\u001b[0;34m\u001b[0m\u001b[0m\n\u001b[0;32m---> 11\u001b[0;31m         \u001b[0moutput\u001b[0m \u001b[0;34m=\u001b[0m \u001b[0mmodel\u001b[0m\u001b[0;34m(\u001b[0m\u001b[0mtrain_input\u001b[0m\u001b[0;34m.\u001b[0m\u001b[0mnarrow\u001b[0m\u001b[0;34m(\u001b[0m\u001b[0;36m0\u001b[0m\u001b[0;34m,\u001b[0m \u001b[0mb\u001b[0m\u001b[0;34m,\u001b[0m \u001b[0mmini_batch_size\u001b[0m\u001b[0;34m)\u001b[0m\u001b[0;34m)\u001b[0m\u001b[0;31m#表示取出train_input中第0维上索引从b开始到index+mini_batch_size-1的所有元素\u001b[0m\u001b[0;34m\u001b[0m\u001b[0;34m\u001b[0m\u001b[0m\n\u001b[0m\u001b[1;32m     12\u001b[0m         \u001b[0;31m#print(\"output = \", output)\u001b[0m\u001b[0;34m\u001b[0m\u001b[0;34m\u001b[0m\u001b[0;34m\u001b[0m\u001b[0m\n\u001b[1;32m     13\u001b[0m         \u001b[0mloss\u001b[0m \u001b[0;34m=\u001b[0m \u001b[0mcriterion\u001b[0m\u001b[0;34m(\u001b[0m\u001b[0moutput\u001b[0m\u001b[0;34m,\u001b[0m \u001b[0mtrain_target\u001b[0m\u001b[0;34m.\u001b[0m\u001b[0mnarrow\u001b[0m\u001b[0;34m(\u001b[0m\u001b[0;36m0\u001b[0m\u001b[0;34m,\u001b[0m \u001b[0mb\u001b[0m\u001b[0;34m,\u001b[0m \u001b[0mmini_batch_size\u001b[0m\u001b[0;34m)\u001b[0m\u001b[0;34m)\u001b[0m\u001b[0;34m\u001b[0m\u001b[0;34m\u001b[0m\u001b[0m\n",
            "\u001b[0;32m/usr/local/lib/python3.7/dist-packages/torch/nn/modules/module.py\u001b[0m in \u001b[0;36m_call_impl\u001b[0;34m(self, *input, **kwargs)\u001b[0m\n\u001b[1;32m   1100\u001b[0m         if not (self._backward_hooks or self._forward_hooks or self._forward_pre_hooks or _global_backward_hooks\n\u001b[1;32m   1101\u001b[0m                 or _global_forward_hooks or _global_forward_pre_hooks):\n\u001b[0;32m-> 1102\u001b[0;31m             \u001b[0;32mreturn\u001b[0m \u001b[0mforward_call\u001b[0m\u001b[0;34m(\u001b[0m\u001b[0;34m*\u001b[0m\u001b[0minput\u001b[0m\u001b[0;34m,\u001b[0m \u001b[0;34m**\u001b[0m\u001b[0mkwargs\u001b[0m\u001b[0;34m)\u001b[0m\u001b[0;34m\u001b[0m\u001b[0;34m\u001b[0m\u001b[0m\n\u001b[0m\u001b[1;32m   1103\u001b[0m         \u001b[0;31m# Do not call functions when jit is used\u001b[0m\u001b[0;34m\u001b[0m\u001b[0;34m\u001b[0m\u001b[0;34m\u001b[0m\u001b[0m\n\u001b[1;32m   1104\u001b[0m         \u001b[0mfull_backward_hooks\u001b[0m\u001b[0;34m,\u001b[0m \u001b[0mnon_full_backward_hooks\u001b[0m \u001b[0;34m=\u001b[0m \u001b[0;34m[\u001b[0m\u001b[0;34m]\u001b[0m\u001b[0;34m,\u001b[0m \u001b[0;34m[\u001b[0m\u001b[0;34m]\u001b[0m\u001b[0;34m\u001b[0m\u001b[0;34m\u001b[0m\u001b[0m\n",
            "\u001b[0;32m<ipython-input-94-4a34e23ce20e>\u001b[0m in \u001b[0;36mforward\u001b[0;34m(self, x)\u001b[0m\n\u001b[1;32m     10\u001b[0m \u001b[0;34m\u001b[0m\u001b[0m\n\u001b[1;32m     11\u001b[0m     \u001b[0;32mdef\u001b[0m \u001b[0mforward\u001b[0m\u001b[0;34m(\u001b[0m\u001b[0mself\u001b[0m\u001b[0;34m,\u001b[0m \u001b[0mx\u001b[0m\u001b[0;34m)\u001b[0m\u001b[0;34m:\u001b[0m\u001b[0;34m\u001b[0m\u001b[0;34m\u001b[0m\u001b[0m\n\u001b[0;32m---> 12\u001b[0;31m         \u001b[0mx\u001b[0m \u001b[0;34m=\u001b[0m \u001b[0mF\u001b[0m\u001b[0;34m.\u001b[0m\u001b[0mrelu\u001b[0m\u001b[0;34m(\u001b[0m\u001b[0mF\u001b[0m\u001b[0;34m.\u001b[0m\u001b[0mmax_pool2d\u001b[0m\u001b[0;34m(\u001b[0m\u001b[0mself\u001b[0m\u001b[0;34m.\u001b[0m\u001b[0mconv1\u001b[0m\u001b[0;34m(\u001b[0m\u001b[0mx\u001b[0m\u001b[0;34m)\u001b[0m\u001b[0;34m,\u001b[0m \u001b[0mkernel_size\u001b[0m\u001b[0;34m=\u001b[0m\u001b[0;36m2\u001b[0m\u001b[0;34m)\u001b[0m\u001b[0;34m)\u001b[0m\u001b[0;34m\u001b[0m\u001b[0;34m\u001b[0m\u001b[0m\n\u001b[0m\u001b[1;32m     13\u001b[0m         \u001b[0mprint\u001b[0m\u001b[0;34m(\u001b[0m\u001b[0;34m\"x1 = \"\u001b[0m\u001b[0;34m,\u001b[0m\u001b[0mx\u001b[0m\u001b[0;34m)\u001b[0m\u001b[0;34m\u001b[0m\u001b[0;34m\u001b[0m\u001b[0m\n\u001b[1;32m     14\u001b[0m         \u001b[0mx\u001b[0m \u001b[0;34m=\u001b[0m \u001b[0mF\u001b[0m\u001b[0;34m.\u001b[0m\u001b[0mrelu\u001b[0m\u001b[0;34m(\u001b[0m\u001b[0mF\u001b[0m\u001b[0;34m.\u001b[0m\u001b[0mmax_pool2d\u001b[0m\u001b[0;34m(\u001b[0m\u001b[0mself\u001b[0m\u001b[0;34m.\u001b[0m\u001b[0mconv2\u001b[0m\u001b[0;34m(\u001b[0m\u001b[0mx\u001b[0m\u001b[0;34m)\u001b[0m\u001b[0;34m,\u001b[0m \u001b[0mkernel_size\u001b[0m\u001b[0;34m=\u001b[0m\u001b[0;36m2\u001b[0m\u001b[0;34m)\u001b[0m\u001b[0;34m)\u001b[0m\u001b[0;34m\u001b[0m\u001b[0;34m\u001b[0m\u001b[0m\n",
            "\u001b[0;32m/usr/local/lib/python3.7/dist-packages/torch/nn/modules/module.py\u001b[0m in \u001b[0;36m_call_impl\u001b[0;34m(self, *input, **kwargs)\u001b[0m\n\u001b[1;32m   1100\u001b[0m         if not (self._backward_hooks or self._forward_hooks or self._forward_pre_hooks or _global_backward_hooks\n\u001b[1;32m   1101\u001b[0m                 or _global_forward_hooks or _global_forward_pre_hooks):\n\u001b[0;32m-> 1102\u001b[0;31m             \u001b[0;32mreturn\u001b[0m \u001b[0mforward_call\u001b[0m\u001b[0;34m(\u001b[0m\u001b[0;34m*\u001b[0m\u001b[0minput\u001b[0m\u001b[0;34m,\u001b[0m \u001b[0;34m**\u001b[0m\u001b[0mkwargs\u001b[0m\u001b[0;34m)\u001b[0m\u001b[0;34m\u001b[0m\u001b[0;34m\u001b[0m\u001b[0m\n\u001b[0m\u001b[1;32m   1103\u001b[0m         \u001b[0;31m# Do not call functions when jit is used\u001b[0m\u001b[0;34m\u001b[0m\u001b[0;34m\u001b[0m\u001b[0;34m\u001b[0m\u001b[0m\n\u001b[1;32m   1104\u001b[0m         \u001b[0mfull_backward_hooks\u001b[0m\u001b[0;34m,\u001b[0m \u001b[0mnon_full_backward_hooks\u001b[0m \u001b[0;34m=\u001b[0m \u001b[0;34m[\u001b[0m\u001b[0;34m]\u001b[0m\u001b[0;34m,\u001b[0m \u001b[0;34m[\u001b[0m\u001b[0;34m]\u001b[0m\u001b[0;34m\u001b[0m\u001b[0;34m\u001b[0m\u001b[0m\n",
            "\u001b[0;32m/usr/local/lib/python3.7/dist-packages/torch/nn/modules/conv.py\u001b[0m in \u001b[0;36mforward\u001b[0;34m(self, input)\u001b[0m\n\u001b[1;32m    444\u001b[0m \u001b[0;34m\u001b[0m\u001b[0m\n\u001b[1;32m    445\u001b[0m     \u001b[0;32mdef\u001b[0m \u001b[0mforward\u001b[0m\u001b[0;34m(\u001b[0m\u001b[0mself\u001b[0m\u001b[0;34m,\u001b[0m \u001b[0minput\u001b[0m\u001b[0;34m:\u001b[0m \u001b[0mTensor\u001b[0m\u001b[0;34m)\u001b[0m \u001b[0;34m->\u001b[0m \u001b[0mTensor\u001b[0m\u001b[0;34m:\u001b[0m\u001b[0;34m\u001b[0m\u001b[0;34m\u001b[0m\u001b[0m\n\u001b[0;32m--> 446\u001b[0;31m         \u001b[0;32mreturn\u001b[0m \u001b[0mself\u001b[0m\u001b[0;34m.\u001b[0m\u001b[0m_conv_forward\u001b[0m\u001b[0;34m(\u001b[0m\u001b[0minput\u001b[0m\u001b[0;34m,\u001b[0m \u001b[0mself\u001b[0m\u001b[0;34m.\u001b[0m\u001b[0mweight\u001b[0m\u001b[0;34m,\u001b[0m \u001b[0mself\u001b[0m\u001b[0;34m.\u001b[0m\u001b[0mbias\u001b[0m\u001b[0;34m)\u001b[0m\u001b[0;34m\u001b[0m\u001b[0;34m\u001b[0m\u001b[0m\n\u001b[0m\u001b[1;32m    447\u001b[0m \u001b[0;34m\u001b[0m\u001b[0m\n\u001b[1;32m    448\u001b[0m \u001b[0;32mclass\u001b[0m \u001b[0mConv3d\u001b[0m\u001b[0;34m(\u001b[0m\u001b[0m_ConvNd\u001b[0m\u001b[0;34m)\u001b[0m\u001b[0;34m:\u001b[0m\u001b[0;34m\u001b[0m\u001b[0;34m\u001b[0m\u001b[0m\n",
            "\u001b[0;32m/usr/local/lib/python3.7/dist-packages/torch/nn/modules/conv.py\u001b[0m in \u001b[0;36m_conv_forward\u001b[0;34m(self, input, weight, bias)\u001b[0m\n\u001b[1;32m    441\u001b[0m                             _pair(0), self.dilation, self.groups)\n\u001b[1;32m    442\u001b[0m         return F.conv2d(input, weight, bias, self.stride,\n\u001b[0;32m--> 443\u001b[0;31m                         self.padding, self.dilation, self.groups)\n\u001b[0m\u001b[1;32m    444\u001b[0m \u001b[0;34m\u001b[0m\u001b[0m\n\u001b[1;32m    445\u001b[0m     \u001b[0;32mdef\u001b[0m \u001b[0mforward\u001b[0m\u001b[0;34m(\u001b[0m\u001b[0mself\u001b[0m\u001b[0;34m,\u001b[0m \u001b[0minput\u001b[0m\u001b[0;34m:\u001b[0m \u001b[0mTensor\u001b[0m\u001b[0;34m)\u001b[0m \u001b[0;34m->\u001b[0m \u001b[0mTensor\u001b[0m\u001b[0;34m:\u001b[0m\u001b[0;34m\u001b[0m\u001b[0;34m\u001b[0m\u001b[0m\n",
            "\u001b[0;31mRuntimeError\u001b[0m: Expected 4-dimensional input for 4-dimensional weight [32, 1, 5, 5], but got 3-dimensional input of size [2, 14, 14] instead"
          ]
        }
      ]
    },
    {
      "cell_type": "code",
      "metadata": {
        "id": "Az2HklnuAwQp"
      },
      "source": [
        "class Net2(nn.Module):\n",
        "    def __init__(self):\n",
        "        super().__init__()\n",
        "        nb_hidden = 200\n",
        "        self.conv1 = nn.Conv2d(1, 32, kernel_size=5)\n",
        "        self.conv2 = nn.Conv2d(2*32, 2*32, kernel_size=5)\n",
        "        self.conv3 = nn.Conv2d(32, 64, kernel_size=2)\n",
        "        self.fc1 = nn.Linear(9 * 64, nb_hidden)\n",
        "        self.fc2 = nn.Linear(nb_hidden, 10)\n",
        "\n",
        "    def forward(self, x):\n",
        "        x1 = x[0]\n",
        "        print(\"x1= \", x1)\n",
        "        x1 = F.relu(F.max_pool2d(self.conv1(x1), kernel_size=2))\n",
        "        x1 = F.relu(F.max_pool2d(self.conv2(x1), kernel_size=2))\n",
        "        x1 = F.relu(self.conv3(x1))\n",
        "        x1 = F.relu(self.fc1(x1.view(-1, 9 * 64)))\n",
        "        x1 = self.fc2(x1)\n",
        "        x2 = x[1]\n",
        "        x2 = F.relu(F.max_pool2d(self.conv1(x2), kernel_size=2))\n",
        "        x2 = F.relu(F.max_pool2d(self.conv2(x2), kernel_size=2))\n",
        "        x2 = F.relu(self.conv3(x2))\n",
        "        x2 = F.relu(self.fc1(x2.view(-1, 9 * 64)))\n",
        "        x2 = self.fc2(x2)\n",
        "        y = [x1, x2]\n",
        "        return y"
      ],
      "execution_count": 92,
      "outputs": []
    }
  ]
}