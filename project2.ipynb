{
  "nbformat": 4,
  "nbformat_minor": 0,
  "metadata": {
    "colab": {
      "name": "project2.ipynb",
      "provenance": [],
      "collapsed_sections": []
    },
    "kernelspec": {
      "name": "python3",
      "display_name": "Python 3"
    },
    "language_info": {
      "name": "python"
    }
  },
  "cells": [
    {
      "cell_type": "code",
      "metadata": {
        "id": "zT1x1BON2Ohg"
      },
      "source": [
        "import torch\n",
        "import sys\n",
        "import math"
      ],
      "execution_count": null,
      "outputs": []
    },
    {
      "cell_type": "code",
      "metadata": {
        "id": "gMVNnkv08OXG"
      },
      "source": [
        "def generate_disc_set(nb):\n",
        "    input = torch.rand(nb, 2, dtype=torch.float32)\n",
        "    label = torch.zeros(nb, dtype=torch.int64)\n",
        "    # input = torch.empty((1000, 2)).normal(mean=0,var)\n",
        "    dis = 1 / (2 * math.pi)\n",
        "    for i in range(input.size(0)):\n",
        "      if ((input[i] - 0.5).square().sum()) < dis:\n",
        "        # print(i)\n",
        "        label[i] = 1\n",
        "      # print(input[i].square().sum())\n",
        "    # print(label)\n",
        "    return input, label"
      ],
      "execution_count": null,
      "outputs": []
    },
    {
      "cell_type": "code",
      "metadata": {
        "id": "vYfnCZQSkMSV"
      },
      "source": [
        "def sigmoid(result):\n",
        "    for idx,layer in enumerate(result):\n",
        "        result[idx] = 1 / (1 + math.exp(-layer))   \n",
        "    return result\n"
      ],
      "execution_count": null,
      "outputs": []
    },
    {
      "cell_type": "code",
      "metadata": {
        "id": "nrS5Hw8A77oO"
      },
      "source": [
        "def loss(v, t):\n",
        "    # print((v - t).pow(2).sum())\n",
        "    return (v - t).pow(2).sum()\n"
      ],
      "execution_count": null,
      "outputs": []
    },
    {
      "cell_type": "code",
      "metadata": {
        "id": "7KnpWtgIeg4n"
      },
      "source": [
        "input, label = generate_disc_set(3)\n",
        "# input = torch.tensor([[0.5, 0.3], [0.1, 0.9]])\n",
        "# label = torch.tensor([1, 0])\n",
        "# test_input, test_label = generate_disc_set(1000)\n",
        "\n",
        "print('input:', input, ' label:', label)\n",
        "\n",
        "class Module:\n",
        "    def __init__(self, layer = 3, neuron = 25):\n",
        "        self.layer = layer\n",
        "        self.neu = neuron\n",
        "        self.lr = 0.01\n",
        "        self.input_shape = 2\n",
        "        self.output_shape = 1    \n",
        "\n",
        "    def init_weight(self):\n",
        "        self.weight = []\n",
        "        self.weight.append(torch.rand(self.input_shape, self.neu) * 2 - 1)\n",
        "        for i in range(1, self.layer):\n",
        "            self.weight.append(torch.rand(self.neu+1, self.neu) * 2 - 1)\n",
        "        self.weight.append(torch.rand(self.neu+1, self.output_shape) * 2 - 1)\n",
        "        # print('weight:', self.weight)\n",
        "        # print('weight size:', self.weight[1].size())\n",
        "\n",
        "    def forward_pass(self, train_data):\n",
        "        result = []\n",
        "        result.append(torch.mm(train_data.expand(1, -1), self.weight[0]).relu())\n",
        "        result[0] = torch.cat((result[0], torch.tensor([[1]])), 1)\n",
        "        for idx in range(1, self.layer):\n",
        "            result.append(torch.mm(result[idx - 1] ,self.weight[idx]).relu())\n",
        "            result[idx] = torch.cat((result[idx], torch.tensor([[1]])), 1)\n",
        "        # result.append(torch.mm(result[self.layer-1], self.weight[self.layer]).relu())\n",
        "        result.append(sigmoid(torch.mm(result[self.layer-1], self.weight[self.layer])))\n",
        "        # print(result[-1])\n",
        "        # result[self.layer] = sigmoid(result[self.layer])\n",
        "        # print('result:', result)\n",
        "        return result"
      ],
      "execution_count": null,
      "outputs": []
    },
    {
      "cell_type": "code",
      "metadata": {
        "id": "2sic7vn9aRTh"
      },
      "source": [
        "acc_loss = 0\n",
        "x1 = Module(layer=1, neuron=3)\n",
        "x1.init_weight()\n",
        "\n",
        "    print('epoch:', r)\n",
        "    for i in range(len(input)):\n",
        "        result = x1.forward_pass(input[i])\n",
        "        print(result)\n",
        "        acc_loss += loss(label[i], result[-1])"
      ],
      "execution_count": null,
      "outputs": []
    }
  ]
}